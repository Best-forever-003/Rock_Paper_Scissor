{
  "nbformat": 4,
  "nbformat_minor": 0,
  "metadata": {
    "colab": {
      "name": "ROCK_PAPER_SCISSOR.ipynb",
      "provenance": []
    },
    "kernelspec": {
      "name": "python3",
      "display_name": "Python 3"
    },
    "language_info": {
      "name": "python"
    }
  },
  "cells": [
    {
      "cell_type": "markdown",
      "metadata": {
        "id": "5HQDHxuRQEWw"
      },
      "source": [
        "# **ROCK PAPER SCISSOR**\n",
        "\n",
        "**AUTHOR NAME: AAMIR P**"
      ]
    },
    {
      "cell_type": "markdown",
      "metadata": {
        "id": "Mq78Q0zeQaOT"
      },
      "source": [
        "**TO GET RANDOM ELEMENTS**"
      ]
    },
    {
      "cell_type": "code",
      "metadata": {
        "id": "IaqXftdjlm4M"
      },
      "source": [
        "import random"
      ],
      "execution_count": 1,
      "outputs": []
    },
    {
      "cell_type": "markdown",
      "metadata": {
        "id": "6qPZbJyTQfE0"
      },
      "source": [
        "**STORING ELEMENTS IN A LIST**"
      ]
    },
    {
      "cell_type": "code",
      "metadata": {
        "id": "0cVa-LDHlnbw"
      },
      "source": [
        "list=['rock','paper','Scissor']\n",
        "c_score=0 #computer score\n",
        "u_score=0 #Your score"
      ],
      "execution_count": 2,
      "outputs": []
    },
    {
      "cell_type": "markdown",
      "metadata": {
        "id": "puLWGPBWQrZD"
      },
      "source": [
        "**MAKING AN INFINITE LOOP**"
      ]
    },
    {
      "cell_type": "code",
      "metadata": {
        "colab": {
          "base_uri": "https://localhost:8080/"
        },
        "id": "-r38fxIuluZ1",
        "outputId": "47614803-b46f-48f2-c7f9-f328a41c559d"
      },
      "source": [
        "while(1):\n",
        "    computer_choice=random.choice(list)\n",
        "    user_choice=input(\"Enter your choice: \")\n",
        "    if(computer_choice==user_choice):\n",
        "        print(\"Match tie!\")\n",
        "    elif((computer_choice==\"rock\" and user_choice==\"paper\") or (computer_choice==\"scissor\" and user_choice==\"rock\") or (computer_choice==\"paper\" and user_choice==\"scissor\")):\n",
        "        print(\"you got one point!\")\n",
        "        u_score=u_score+1\n",
        "        print(\"your score is \",u_score)\n",
        "    elif((computer_choice==\"paper\" and user_choice==\"rock\") or (computer_choice==\"rock\" and user_choice==\"scissor\") or (computer_choice==\"scissor\" and user_choice==\"paper\")):\n",
        "        print(\"I got one point\")\n",
        "        c_score+=1\n",
        "        print(\"My score is \",c_score)\n",
        "    wish=input(\"Do you want to continue:say yes \")\n",
        "    if(wish==\"yes\"):\n",
        "        continue\n",
        "    else:\n",
        "        break\n",
        "if(u_score>c_score):\n",
        "    print(\"YOU WON\")\n",
        "elif(u_score<c_score):\n",
        "    print(\"Sorry! I WON\")\n",
        "else:\n",
        "    print(\"TIE\")"
      ],
      "execution_count": 6,
      "outputs": [
        {
          "output_type": "stream",
          "text": [
            "Enter your choice: rock\n",
            "I got one point\n",
            "My score is  1\n",
            "Do you want to continue:say yes yes\n",
            "Enter your choice: paper\n",
            "you got one point!\n",
            "your score is  1\n",
            "Do you want to continue:say yes yes\n",
            "Enter your choice: scissor\n",
            "Do you want to continue:say yes yes\n",
            "Enter your choice: scissor\n",
            "you got one point!\n",
            "your score is  2\n",
            "Do you want to continue:say yes no\n",
            "YOU WON\n"
          ],
          "name": "stdout"
        }
      ]
    }
  ]
}